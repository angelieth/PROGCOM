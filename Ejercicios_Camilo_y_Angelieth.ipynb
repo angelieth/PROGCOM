{
  "nbformat": 4,
  "nbformat_minor": 0,
  "metadata": {
    "colab": {
      "name": "Ejercicios Camilo y Angelieth.ipynb",
      "provenance": []
    },
    "kernelspec": {
      "name": "python3",
      "display_name": "Python 3"
    },
    "language_info": {
      "name": "python"
    }
  },
  "cells": [
    {
      "cell_type": "markdown",
      "source": [
        "##Ejercicios en clase"
      ],
      "metadata": {
        "id": "v6fAwVuWmVc-"
      }
    },
    {
      "cell_type": "markdown",
      "source": [
        "####Ejercicio 1\n",
        "Indicar si un número N es un número primo (siendo N un número que se lee).\n"
      ],
      "metadata": {
        "id": "khSADPx6m-ZN"
      }
    },
    {
      "cell_type": "code",
      "source": [
        "ac=0\n",
        "numerito=int(input(\"Ingrese un número entero\"))\n",
        "for i in range (1, numerito+1):\n",
        "  print(numerito, \"%\", i, \"=\", numerito%1)\n",
        "  if numerito%1 ==0:\n",
        "    ac=ac+1\n",
        "\n",
        "if ac<=2:\n",
        "  print(numerito, \"es un número primo :)\")\n",
        "else: \n",
        "  print(numerito, \"no es un número primo :(\")"
      ],
      "metadata": {
        "colab": {
          "base_uri": "https://localhost:8080/"
        },
        "id": "EvS6RAX8nKh8",
        "outputId": "df324505-9ce4-4100-e756-977616394ee2"
      },
      "execution_count": 5,
      "outputs": [
        {
          "output_type": "stream",
          "name": "stdout",
          "text": [
            "Ingrese un número entero5\n",
            "5 % 1 = 0\n",
            "5 % 2 = 0\n",
            "5 % 3 = 0\n",
            "5 % 4 = 0\n",
            "5 % 5 = 0\n",
            "5 no es un número primo\n"
          ]
        }
      ]
    },
    {
      "cell_type": "markdown",
      "source": [
        "###Ejercios 2\n",
        "Imprimir los 30 primeros números de Fibonacci. "
      ],
      "metadata": {
        "id": "jcMIMG-5pniL"
      }
    },
    {
      "cell_type": "code",
      "source": [
        "def fibonacci_iter(n):\n",
        "  v1=1\n",
        "  v2=1\n",
        "  if n==1:\n",
        "    print(0)\n",
        "  elif n==2:\n",
        "    print(0, 1)\n",
        "  else:\n",
        "    print(0)\n",
        "    print(v1)\n",
        "    print(v2)\n",
        "    for i in range (n-3):\n",
        "      tsuma= v1+v2\n",
        "      v2=v1\n",
        "      v1=tsuma \n",
        "      print(tsuma)\n",
        "  \n",
        "print(\"Los 30 primeros números de la serie Fibonacci son\")\n",
        "fibonacci_iter(30)"
      ],
      "metadata": {
        "colab": {
          "base_uri": "https://localhost:8080/"
        },
        "id": "ZLzV48ivqLP1",
        "outputId": "68d64b50-6fae-457a-cec8-2334a2422be1"
      },
      "execution_count": 8,
      "outputs": [
        {
          "output_type": "stream",
          "name": "stdout",
          "text": [
            "Los 30 primeros números de la serie Fibonacci son\n",
            "0\n",
            "1\n",
            "1\n",
            "2\n",
            "3\n",
            "5\n",
            "8\n",
            "13\n",
            "21\n",
            "34\n",
            "55\n",
            "89\n",
            "144\n",
            "233\n",
            "377\n",
            "610\n",
            "987\n",
            "1597\n",
            "2584\n",
            "4181\n",
            "6765\n",
            "10946\n",
            "17711\n",
            "28657\n",
            "46368\n",
            "75025\n",
            "121393\n",
            "196418\n",
            "317811\n",
            "514229\n"
          ]
        }
      ]
    }
  ]
}
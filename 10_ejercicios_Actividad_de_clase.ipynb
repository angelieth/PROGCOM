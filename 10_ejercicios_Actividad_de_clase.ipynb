{
  "nbformat": 4,
  "nbformat_minor": 0,
  "metadata": {
    "colab": {
      "name": "10 ejercicios Actividad de clase.ipynb",
      "provenance": []
    },
    "kernelspec": {
      "name": "python3",
      "display_name": "Python 3"
    },
    "language_info": {
      "name": "python"
    }
  },
  "cells": [
    {
      "cell_type": "markdown",
      "source": [
        "##Actividad de clase \n",
        "######Son 20 ejercicios cada uno vale 100 exp. \n",
        "\n",
        "\n",
        "######Hay diez ejercicios resueltos \n",
        "######Presentado por: Angelieth Cañas"
      ],
      "metadata": {
        "id": "_YZT_m9opzRL"
      }
    },
    {
      "cell_type": "markdown",
      "source": [
        "###Ejercicio 1 \n",
        "Escriba un programa que solicite dos números enteros y calcule su división. El programa debe definir si la división es exacta o no. Si no es exacta, debe imprimir cuál es su residuo. ¿Qué debería imprimir el programa si la división es entre cero?"
      ],
      "metadata": {
        "id": "iOboGk1wp6Cq"
      }
    },
    {
      "cell_type": "code",
      "source": [
        "a=int(input(\"Por favor ingrese un número \"))\n",
        "type(a)\n",
        "b=int(input(\"Ingrese el divisor \"))\n",
        "if b==0:\n",
        "  print(\"Error\")\n",
        "else:\n",
        "  c=a/b\n",
        "  print(\"El resultado de la división es\", c)\n",
        "  d=int(a%b)\n",
        "  if d>0:\n",
        "    print(d, \"La división no es exacta\")\n",
        "  elif d==0:\n",
        "    print(d, \"La división es exacta\")"
      ],
      "metadata": {
        "colab": {
          "base_uri": "https://localhost:8080/"
        },
        "id": "Vbt95tAhp_H9",
        "outputId": "be33b09e-dcb9-4f8a-e989-6540adc9ccf9"
      },
      "execution_count": null,
      "outputs": [
        {
          "output_type": "stream",
          "name": "stdout",
          "text": [
            "Por favor ingrese un número 12\n",
            "Ingrese el divisor 3\n",
            "El resultado de la división es 4.0\n",
            "0 La división es exacta\n"
          ]
        }
      ]
    },
    {
      "cell_type": "markdown",
      "source": [
        "### Ejercicio 2\n",
        "##### 2.\tEscriba un programa que pida dos números e indique si uno es múltiplo del otro."
      ],
      "metadata": {
        "id": "EjlMQMTAz2Rk"
      }
    },
    {
      "cell_type": "code",
      "source": [
        "a=int(input(\"Por favor ingrese un número \"))\n",
        "b=int(input(\"Por favor ingrese el segundo número \"))\n",
        "if b==0:\n",
        "  print(b, \"es un múltiplo de\", a )\n",
        "elif b>a:\n",
        "  print(a, \"no es múltipo de\", b)\n",
        "else: \n",
        "  c=a/b\n",
        "  print(\"La división tiene como resultado\", c)\n",
        "  d=int(a%b)\n",
        "  if d>0:\n",
        "    print(a, \"no es múltiplo de\", b)\n",
        "  elif d==0:\n",
        "    print(a, \"es múltiplo de\", b)"
      ],
      "metadata": {
        "id": "59FPDd3O0TjI",
        "colab": {
          "base_uri": "https://localhost:8080/"
        },
        "outputId": "31c3602b-50b0-4d46-f479-e1a355bc02a8"
      },
      "execution_count": null,
      "outputs": [
        {
          "output_type": "stream",
          "name": "stdout",
          "text": [
            "Por favor ingrese un número 12\n",
            "Por favor ingrese el segundo número 4\n",
            "La división tiene como resultado 3.0\n",
            "12 es múltiplo de 4\n"
          ]
        }
      ]
    },
    {
      "cell_type": "markdown",
      "source": [
        "###Ejercicio 3 \n",
        "#### Escriba un programa que ordene, de menor a mayor, las edades de tres hermanos. ¿Qué pasaría si son gemelos? ¿Qué pasaría si son trillizos?"
      ],
      "metadata": {
        "id": "WO1kj3vPJIUh"
      }
    },
    {
      "cell_type": "code",
      "source": [
        "z=int(input(\"Ingrese la edad del primer hermano: \"))\n",
        "y=int(input(\"Ingrese la edad del segundo hermano: \"))\n",
        "t=int(input(\"Ingrese la edad del tercer hermano: \"))\n",
        "edad=[z,y,t]\n",
        "ordenados=sorted(edad)\n",
        "print(\"Las edades de menor a mayor de los hermanos son \", ordenados)\n",
        "if z==y==t:\n",
        "  print(\"Los tres hermanos son trillizos\")\n",
        "elif z==y or z==t or y==t:\n",
        "  print(\"Dos de los hermanos son gemelos\")\n",
        "else:\n",
        "  z!=y!=t\n",
        "  print(\"Los tres hermanos tienen edades diferentes\")"
      ],
      "metadata": {
        "colab": {
          "base_uri": "https://localhost:8080/"
        },
        "id": "JL5XR3HSO2zD",
        "outputId": "3c2ceacf-9c44-408b-c394-3c9150855b52"
      },
      "execution_count": null,
      "outputs": [
        {
          "output_type": "stream",
          "name": "stdout",
          "text": [
            "Ingrese la edad del primer hermano: 2\n",
            "Ingrese la edad del segundo hermano: 5\n",
            "Ingrese la edad del tercer hermano: 3\n",
            "Las edades de menor a mayor de los hermanos son  [2, 3, 5]\n",
            "Los tres hermanos tienen edades diferentes\n"
          ]
        }
      ]
    },
    {
      "cell_type": "markdown",
      "source": [
        "###Ejercicio 4 \n",
        "######\tDIAN le ha contratado para identificar si una persona debe pagar impuesto de renta o no. ¿Qué datos debería suministrar? Escriba un programa con su solución.\n",
        "######Las personas naturales que cumplan con alguna de las siguientes condiciones deben declarar el impuesto sobre la renta 2022:\n",
        "\n",
        "1) Que el patrimonio bruto al término del año gravable 2021 sea igual o superior a $163.386.000\n",
        "\n",
        "2) Que los ingresos totales del respectivo ejercicio gravable sean iguales o superiores a $50.831.000\n",
        "\n",
        "3) Que los consumos mediante tarjeta de crédito sean iguales o superiores a $50.831.000\n",
        "\n",
        "4) Que el valor total de las compras y consumos sean igual o superior a $50.831.000\n",
        "\n",
        "5) Que el valor total acumulado de consignaciones bancarias, depósitos o inversiones financieras sean igual o superior a $50.831.000\n"
      ],
      "metadata": {
        "id": "t4SGyf4oXssU"
      }
    },
    {
      "cell_type": "code",
      "source": [
        "p=int(input(\"Ingrese el valor de su patrimonio bruto \"))\n",
        "i=int(input(\"Ingrese el calor de sus ingresos totales del año \"))\n",
        "t=int(input(\"Ingrese el valor de sus consumos en la tarjeta de crédito \"))\n",
        "c=int(input(\"Ingrese el valor total de compras y consumo del año \"))\n",
        "b=int(input(\"Ingrese el valor total acumulado de consignaciones bancarias, depósitos e inversiones financieras \"))\n",
        "if p==163386000 or p>163386000:\n",
        "  print(\"Usted debe declarar impuesto de renta\")\n",
        "elif i==50831000 or i>50831000:\n",
        "  print(\"Usted debe declarar impuesto de renta\")\n",
        "elif t==50831000 or t>50831000:\n",
        "  print(\"Usted debe declarar impuesto de renta\")\n",
        "elif c==50831000 or c>50831000:\n",
        "  print(\"Usted debe declarar impuesto de renta\")\n",
        "elif b==50831000 or b>50831000:\n",
        "  print(\"Usted debe declarar impuesto de renta\")\n",
        "else: print(\"Usted no debe declarar impuesto de renta \")"
      ],
      "metadata": {
        "colab": {
          "base_uri": "https://localhost:8080/"
        },
        "id": "T5V8wyTOYHRG",
        "outputId": "94a378b9-ec70-4b6f-cac3-db76fa433f28"
      },
      "execution_count": null,
      "outputs": [
        {
          "output_type": "stream",
          "name": "stdout",
          "text": [
            "Ingrese el valor de su patrimonio bruto 7\n",
            "Ingrese el calor de sus ingresos totales del año 60000000\n",
            "Ingrese el valor de sus consumos en la tarjeta de crédito 4\n",
            "Ingrese el valor total de compras y consumo del año 56\n",
            "Ingrese el valor total acumulado de consignaciones bancarias,depósitos e inversiones financieras 3\n",
            "Usted debe declarar impuesto de renta\n"
          ]
        }
      ]
    },
    {
      "cell_type": "markdown",
      "source": [
        "###Ejercicio 6 \n",
        "######Escriba un programa que le pregunte sus cuatro notas y calcule su promedio actual. Si su promedio es mayor a 4.5, se le diga que está eximido del último examen. Si su nota se encuentra entre 3.5 y 4.5 (intervalo abierto) se le indique que debe presentar el examen. Si la nota se encuentra entre 3 y 3.5 (intervalo abierto), se le indique que adicional al examen, debe presentar un trabajo. Si la nota está entre intervalo abierto entre 2 y 3, decir que debe presentar habilitación. De lo contrario, se le debe indicar al estudiante que perdió la materia irremediablemente."
      ],
      "metadata": {
        "id": "i6eI5bqyjVYN"
      }
    },
    {
      "cell_type": "code",
      "source": [
        "n1=float(input(\"Ingrese la nota 1: \"))\n",
        "n2=float(input(\"Ingrese la nota 2: \"))\n",
        "n3=float(input(\"Ingrese la nota 3: \"))\n",
        "n4=float(input(\"Ingrese la nota 4: \"))\n",
        "promedio=float((n1+n2+n3+n4)/4)\n",
        "print(\"El promedio acumulado del estudiante es \", promedio)\n",
        "if promedio>4.5:\n",
        "  print(\"El estudiante se encuentra eximido del último examen\")\n",
        "elif (promedio>3.5 and promedio<4.5):\n",
        "  print(\"El estudiante debe presentar el examen\")\n",
        "elif promedio>2.0 and promedio<3.5:\n",
        "  print(\"El estudiante debe presentar el examen y un trabajo adicional\")\n",
        "elif promedio>2.0 and promedio<3.0:\n",
        "  print(\"El estudiante debe presentar rehabilitación\")\n",
        "else: print(\"El estudiante perdió la materia definitivamente\")"
      ],
      "metadata": {
        "colab": {
          "base_uri": "https://localhost:8080/"
        },
        "id": "EwQvrKW_jdpn",
        "outputId": "73b6327a-f9a2-498f-ff33-481e3e5013b5"
      },
      "execution_count": null,
      "outputs": [
        {
          "output_type": "stream",
          "name": "stdout",
          "text": [
            "Ingrese la nota 1: 3.5\n",
            "Ingrese la nota 2: 3.2\n",
            "Ingrese la nota 3: 2.7\n",
            "Ingrese la nota 4: 1.7\n",
            "El promedio acumulado del estudiante es  2.775\n",
            "El estudiante debe presentar el examen y un trabajo adicional\n"
          ]
        }
      ]
    },
    {
      "cell_type": "markdown",
      "source": [
        "###Ejercicio 15\n",
        "#####Escribir un programa que, dado un número entero, muestre su valor absoluto. \n"
      ],
      "metadata": {
        "id": "nec_AoKslgyv"
      }
    },
    {
      "cell_type": "code",
      "source": [
        "a=float(input(\"Ingrese un número \"))\n",
        "print(\"El valor absoluto de\", a, \"es\", abs(a))"
      ],
      "metadata": {
        "colab": {
          "base_uri": "https://localhost:8080/"
        },
        "id": "4ondFO0Zltgz",
        "outputId": "456e865f-0d95-4405-8526-3495d1c50172"
      },
      "execution_count": null,
      "outputs": [
        {
          "output_type": "stream",
          "name": "stdout",
          "text": [
            "Ingrese un número 8\n",
            "El valor absoluto de 8.0 es 8.0\n"
          ]
        }
      ]
    },
    {
      "cell_type": "markdown",
      "source": [
        "###Ejercicio 9\n",
        "#####Escriba un programa que solicite los coeficientes de la ecuación de la recta ax+b=0 y escriba la solución"
      ],
      "metadata": {
        "id": "wdrHLoK7qrb6"
      }
    },
    {
      "cell_type": "code",
      "source": [
        "a=float(input(\"Ingrese el valor de la pendiente de la recta \"))\n",
        "b=float(input(\"Ingrese el valor donde corta al eje y \"))\n",
        "print(\"La ecuación de la recta es \", a,\"x +\", b, \"=\", 0)\n",
        "x=(-b/a)\n",
        "print(\"La solución da que x es igual a\", x)"
      ],
      "metadata": {
        "colab": {
          "base_uri": "https://localhost:8080/"
        },
        "id": "E2WcywqCrBu7",
        "outputId": "00e33ec3-15d7-47e4-bd93-d673fa6e7b35"
      },
      "execution_count": null,
      "outputs": [
        {
          "output_type": "stream",
          "name": "stdout",
          "text": [
            "Ingrese el valor de la pendiente de la recta 2\n",
            "Ingrese el valor donde corta al eje y 12\n",
            "La ecuación de la recta es  2.0 x + 12.0 = 0\n",
            "La solución da que x es igual a -6.0\n"
          ]
        }
      ]
    },
    {
      "cell_type": "markdown",
      "source": [
        "###Ejercicio 10\n",
        "#####Escriba un programa que halle la pendiente de la recta ax+b=c\n"
      ],
      "metadata": {
        "id": "8she6osiwVMS"
      }
    },
    {
      "cell_type": "code",
      "source": [
        "###La pendiente de una recta se halla al tener dos puntos que la pasen.\n",
        "print(\"Coordenadas del 1 punto\")\n",
        "x1=float(input(\"Ingrese la componente en x \"))\n",
        "y1=float(input(\"Ingrese la componente en y \"))\n",
        "print(\"Coordenadas del 2 punto \")\n",
        "x2=float(input(\"Ingrese la componente en x \"))\n",
        "y2=float(input(\"Ingrese la componente en y \"))\n",
        "print(\"El primer punto es (\",x1,\",\",y1,\")\")\n",
        "print(\"El segundo punto es (\",x2,\",\",y2,\")\")\n",
        "pendiente=float((y2-y1)/(x2-x1))\n",
        "print(\"La pendiente de la recta es \", pendiente)"
      ],
      "metadata": {
        "colab": {
          "base_uri": "https://localhost:8080/"
        },
        "id": "aHkwK_B81tIt",
        "outputId": "082bf5f5-a084-455f-c33e-1448cac60514"
      },
      "execution_count": null,
      "outputs": [
        {
          "output_type": "stream",
          "name": "stdout",
          "text": [
            "Coordenadas del 1 punto\n",
            "Ingrese la componente en x -2\n",
            "Ingrese la componente en y 5\n",
            "Coordenadas del 2 punto \n",
            "Ingrese la componente en x 4\n",
            "Ingrese la componente en y -6\n",
            "El primer punto es ( -2.0 , 5.0 )\n",
            "El segundo punto es ( 4.0 , -6.0 )\n",
            "La pendiente de la recta es  -1.8333333333333333\n"
          ]
        }
      ]
    },
    {
      "cell_type": "markdown",
      "source": [
        "###Ejercicio 17\n",
        "#####Escribir un programa que le permita al usuario elegir un candidato por el cual votar: Candidato A por el partido Alfa, Candidato B, por el partido Beta, Candidato C por el partido gamma. Cuando el usuario introduce A, B o C, deberá imprimir por cuál candidato y partido ha votado. Si el usuario introduce otra letra, el programa debe indicarle que ha cometido un error."
      ],
      "metadata": {
        "id": "uf0qaiF66m0L"
      }
    },
    {
      "cell_type": "code",
      "source": [
        "print(\"Las opciones para realizar su voto son\")\n",
        "print(\"a) Candidato A por el partido Alfa\")\n",
        "print(\"b) Candidato B por el partido Beta\")\n",
        "print(\"c) Candidato C por el partido Gamma\")\n",
        "rta=str(input(\"Cuál opción desea elegir para su voto? \"))\n",
        "if rta==\"a\" or rta==\"A\":\n",
        "  print(\"Su voto fue por el candidato A del partido Alfa\")\n",
        "elif rta==\"b\" or rta==\"B\":\n",
        "  print(\"Su voto fue por el candidato B del partido Beta\")\n",
        "elif rta==\"c\" or rta==\"C\":\n",
        "  print(\"Su voto fue por el candidato C del partido Gamma\")\n",
        "else:\n",
        "  rta!=\"a\"!=\"A\"!=\"b\"!=\"B\"!=\"c\"!=\"C\"\n",
        "  print(\"Error. Tiene que elegir una opción de las anteriores\")"
      ],
      "metadata": {
        "colab": {
          "base_uri": "https://localhost:8080/"
        },
        "id": "AWklWpAQ6x6o",
        "outputId": "472a358a-a4cb-4164-de26-2002bcff7921"
      },
      "execution_count": null,
      "outputs": [
        {
          "output_type": "stream",
          "name": "stdout",
          "text": [
            "Las opciones para realizar su voto son\n",
            "a) Candidato A por el partido Alfa\n",
            "b) Candidato B por el partido Beta\n",
            "c) Candidato C por el partido Gamma\n",
            "Cuál opción desea elegir para su voto? H\n",
            "Error. Tiene que elegir una opción de las anteriores\n"
          ]
        }
      ]
    },
    {
      "cell_type": "markdown",
      "source": [
        "###Ejercicio 8\n",
        "#####Escriba un programa que defina si un número es bisiesto. (Un año es bisiesto cuando son múltiplos de 4, pero no son múltiplos de 100)."
      ],
      "metadata": {
        "id": "QR11wBTneQtw"
      }
    },
    {
      "cell_type": "code",
      "source": [
        "año=int(input(\"Ingrese un año \"))\n",
        "c=año%100\n",
        "d=año%4\n",
        "if c==0:\n",
        "  print(año, \"no es un año bisiesto\")\n",
        "elif d==0:\n",
        "  print(año, \"es un año bisiesto\")\n",
        "else:\n",
        "  d!=0 \n",
        "  print(año, \"no es un año bisiesto\")"
      ],
      "metadata": {
        "colab": {
          "base_uri": "https://localhost:8080/"
        },
        "id": "ZbDHFy7sehcl",
        "outputId": "ecf40cd8-6150-476c-de2e-c8874d2fea12"
      },
      "execution_count": null,
      "outputs": [
        {
          "output_type": "stream",
          "name": "stdout",
          "text": [
            "Ingrese un año 2100\n",
            "2100 no es un año bisiesto\n"
          ]
        }
      ]
    }
  ]
}
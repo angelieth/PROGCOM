{
  "nbformat": 4,
  "nbformat_minor": 0,
  "metadata": {
    "colab": {
      "provenance": []
    },
    "kernelspec": {
      "name": "python3",
      "display_name": "Python 3"
    },
    "language_info": {
      "name": "python"
    }
  },
  "cells": [
    {
      "cell_type": "markdown",
      "source": [
        "##False y True\n",
        "Una expresión booleana es evaluada como verdadera (true) o falsa (false). Python provee el tipo de dato booleano que puede contener los valores True o False. Muchas funciones y operaciones retornan objetos booleanos."
      ],
      "metadata": {
        "id": "HHBlzGQr3XWd"
      }
    },
    {
      "cell_type": "code",
      "source": [
        "5 < 3\n",
        "False"
      ],
      "metadata": {
        "colab": {
          "base_uri": "https://localhost:8080/"
        },
        "id": "ZFnir2fC4TKM",
        "outputId": "577ade31-eb43-4fb2-d04e-0e29d9dcd137"
      },
      "execution_count": null,
      "outputs": [
        {
          "output_type": "execute_result",
          "data": {
            "text/plain": [
              "False"
            ]
          },
          "metadata": {},
          "execution_count": 8
        }
      ]
    },
    {
      "cell_type": "code",
      "source": [
        "10 == 10 \n",
        "True "
      ],
      "metadata": {
        "colab": {
          "base_uri": "https://localhost:8080/"
        },
        "id": "C_m2d-go62n0",
        "outputId": "fc85bb3d-a3f5-423f-f4c0-858cf9ef3697"
      },
      "execution_count": null,
      "outputs": [
        {
          "output_type": "execute_result",
          "data": {
            "text/plain": [
              "True"
            ]
          },
          "metadata": {},
          "execution_count": 9
        }
      ]
    },
    {
      "cell_type": "markdown",
      "source": [
        "##None\n",
        "None es utilizado cuando se quiere crear una variable (puesto que Python no distingue la creación de la asignación: crear una variable es simplemente darle un valor) pero aún no se le quiere asignar ningún valor en particular"
      ],
      "metadata": {
        "id": "KJwOVr7e4fep"
      }
    },
    {
      "cell_type": "code",
      "source": [
        "#Al escribir el nombre de una variable cuyo contenido es None, no se mostrará nada.\n",
        "a = None\n",
        "a"
      ],
      "metadata": {
        "id": "ttmvcKa_4kYR"
      },
      "execution_count": null,
      "outputs": []
    },
    {
      "cell_type": "code",
      "source": [
        "#Con None se pueden hacer comparaciones \n",
        "a = None\n",
        "if a == None:\n",
        "    print(\"a es None.\")\n",
        "else:\n",
        "    print(\"a no es None.\")"
      ],
      "metadata": {
        "colab": {
          "base_uri": "https://localhost:8080/"
        },
        "id": "-Flyy-f355sm",
        "outputId": "21581e97-5d99-419c-cf48-92042fba5c96"
      },
      "execution_count": null,
      "outputs": [
        {
          "output_type": "stream",
          "name": "stdout",
          "text": [
            "a es None.\n"
          ]
        }
      ]
    },
    {
      "cell_type": "markdown",
      "source": [
        "##And \n",
        "El operador lógico AND devuelve True si el valor de ambos operandos es True, y devuelve False si cualquier valor de los dos operandos es False. El operador lógico AND se utiliza en los casos en que solo queremos realizar una acción o una tarea si todas las condiciones u operandos son True."
      ],
      "metadata": {
        "id": "E8qcqBgT6jJu"
      }
    },
    {
      "cell_type": "code",
      "source": [
        "a = 10\n",
        "b = 3\n",
        "\n",
        "if a > 0 and b  > 0:\n",
        "    print('a and b son mayores que 0') "
      ],
      "metadata": {
        "colab": {
          "base_uri": "https://localhost:8080/"
        },
        "id": "5aHZprYw7gGF",
        "outputId": "f194b57c-a413-4c45-d4a2-450afcaf54a0"
      },
      "execution_count": null,
      "outputs": [
        {
          "output_type": "stream",
          "name": "stdout",
          "text": [
            "a and b son mayores que 0\n"
          ]
        }
      ]
    },
    {
      "cell_type": "markdown",
      "source": [
        "##As \n",
        "Generalmente se usa como un \"como\""
      ],
      "metadata": {
        "id": "1na51GAB8Go2"
      }
    },
    {
      "cell_type": "code",
      "source": [
        "import tkinter as tk"
      ],
      "metadata": {
        "id": "E4alXbOX9smO"
      },
      "execution_count": null,
      "outputs": []
    },
    {
      "cell_type": "markdown",
      "source": [
        "##Assert\n",
        "El uso de assert en Python nos permite realizar comprobaciones. Si la expresión contenida dentro del mismo es False, se lanzará una excepción, concretamente AssertionError."
      ],
      "metadata": {
        "id": "RQestxia9pwz"
      }
    },
    {
      "cell_type": "code",
      "source": [
        "x = \"Hola mundo\"\n",
        "assert x == \"Hola mundo\""
      ],
      "metadata": {
        "id": "sjF8GT8G-rMg"
      },
      "execution_count": null,
      "outputs": []
    },
    {
      "cell_type": "markdown",
      "source": [
        "##Break \n",
        "En Python, la instrucción break le proporciona la oportunidad de cerrar un bucle cuando se activa una condición externa."
      ],
      "metadata": {
        "id": "5B1JypuD_X9Q"
      }
    },
    {
      "cell_type": "code",
      "source": [
        "for n in range (10000):\n",
        "  print(n)\n",
        "  if n ==3:\n",
        "    break"
      ],
      "metadata": {
        "colab": {
          "base_uri": "https://localhost:8080/"
        },
        "id": "kkzVN7xJAeza",
        "outputId": "22ff05e9-3fe8-4cb9-a249-07b51f6a5403"
      },
      "execution_count": null,
      "outputs": [
        {
          "output_type": "stream",
          "name": "stdout",
          "text": [
            "0\n",
            "1\n",
            "2\n",
            "3\n"
          ]
        }
      ]
    },
    {
      "cell_type": "markdown",
      "source": [
        "##Class\n",
        "Las clases proveen una forma de empaquetar datos y funcionalidad juntos. Al crear una nueva clase, se crea un nuevo tipo de objeto, permitiendo crear nuevas instancias de ese tipo. Cada instancia de clase puede tener atributos adjuntos para mantener su estado. Las instancias de clase también pueden tener métodos (definidos por su clase) para modificar su estado."
      ],
      "metadata": {
        "id": "zWxLv52_AzQR"
      }
    },
    {
      "cell_type": "code",
      "source": [
        "class Mascota (object):\n",
        "  def _init_(self,nombre,especie):\n",
        "    self.nombre=nombre\n",
        "    self.especie=especie\n",
        "\n",
        "  def darNombre(self):\n",
        "    return self.nombre\n",
        "\n",
        "  def darEspecie(self):\n",
        "    return self.especie"
      ],
      "metadata": {
        "id": "GTuyMqfgBGrF"
      },
      "execution_count": null,
      "outputs": []
    },
    {
      "cell_type": "markdown",
      "source": [
        "##Continue \n",
        "La instrucción continue da la opción de omitir la parte de un bucle en la que se activa una condición externa, pero continuar para completar el resto del bucle."
      ],
      "metadata": {
        "id": "Covdb58BHeXR"
      }
    },
    {
      "cell_type": "code",
      "source": [
        "t_ints = (1, 2, 3, 4, 5)\n",
        "\n",
        "for i in t_ints:\n",
        "  if i ==3:\n",
        "    continue \n",
        "  print(f'Processing integer {i}')\n",
        "\n",
        "print(\"Done\")"
      ],
      "metadata": {
        "colab": {
          "base_uri": "https://localhost:8080/"
        },
        "id": "qEi4s4wmJbdY",
        "outputId": "d8e25399-be07-4553-ee07-c2c4c3ae283c"
      },
      "execution_count": 7,
      "outputs": [
        {
          "output_type": "stream",
          "name": "stdout",
          "text": [
            "Processing integer 1\n",
            "Processing integer 2\n",
            "Processing integer 4\n",
            "Processing integer 5\n",
            "Done\n"
          ]
        }
      ]
    },
    {
      "cell_type": "markdown",
      "source": [
        "##Def\n",
        "def es una palabra reservada que indica a Python que una nueva función está siendo definida."
      ],
      "metadata": {
        "id": "UAv-n1jf_eJE"
      }
    },
    {
      "cell_type": "code",
      "source": [
        "def suma(a,b):\n",
        "  resultado= a+b\n",
        "  return resultado \n",
        "print(suma(5,6))"
      ],
      "metadata": {
        "colab": {
          "base_uri": "https://localhost:8080/"
        },
        "id": "Ri6M_9M3_h2e",
        "outputId": "d84ea5d1-7bc8-48fe-e1e9-b823b7444bb0"
      },
      "execution_count": 4,
      "outputs": [
        {
          "output_type": "stream",
          "name": "stdout",
          "text": [
            "11\n"
          ]
        }
      ]
    },
    {
      "cell_type": "markdown",
      "source": [
        "##Del\n",
        "La declaración del se utiliza para eliminar objetos. Debido a la naturaleza orientada a objetos de Python, todo lo que puede contener datos es un objeto. Entonces, la declaración del se puede usar para eliminar variables, objetos de clase, listas, etc."
      ],
      "metadata": {
        "id": "FNtzbDIaLT8g"
      }
    },
    {
      "cell_type": "code",
      "source": [
        "List = [\"One\", \"Two\", \"Three\"]\n",
        "print(List)\n",
        "del List[1]\n",
        "print(List)"
      ],
      "metadata": {
        "colab": {
          "base_uri": "https://localhost:8080/"
        },
        "id": "a66xzrBoLuEy",
        "outputId": "7246d05d-23bb-4155-e0a5-3c4a484e6697"
      },
      "execution_count": 9,
      "outputs": [
        {
          "output_type": "stream",
          "name": "stdout",
          "text": [
            "['One', 'Two', 'Three']\n",
            "['One', 'Three']\n"
          ]
        }
      ]
    },
    {
      "cell_type": "markdown",
      "source": [
        "##If, elif, else\n",
        "La estructura  if/elif/else es una forma común de controlar el flujo de un programa, lo que te permite ejecutar bloques de código específicos según el valor de algunos datos.\n",
        "\n",
        ">If: Si la condición que sigue a la palabra clave if se evalúa como verdadera, el bloque de código se ejecutará. \n",
        "\n",
        ">Elif: Se pueden verificar varias condiciones al incluir una o más verificaciones elif después de su declaración if inicial. \n",
        "\n",
        ">Else: Opcionalmente,se puede agregar una respuesta else que se ejecutará si la condición es false\n"
      ],
      "metadata": {
        "id": "5frXPzpuMpI0"
      }
    },
    {
      "cell_type": "code",
      "source": [
        "x = 5\n",
        "\n",
        "if x > 4:\n",
        "  print(\"¡La condición era verdadera!\")"
      ],
      "metadata": {
        "colab": {
          "base_uri": "https://localhost:8080/"
        },
        "id": "CEu-98cYOhgF",
        "outputId": "04e16eab-1344-4849-f9da-212c4379fa78"
      },
      "execution_count": 10,
      "outputs": [
        {
          "output_type": "stream",
          "name": "stdout",
          "text": [
            "¡La condición era verdadera!\n"
          ]
        }
      ]
    },
    {
      "cell_type": "code",
      "source": [
        "y = 3\n",
        "\n",
        "if y > 4:\n",
        "  print(\"¡No voy a imprimir!\") \n",
        "else:\n",
        "  print(\"¡La condición no es verdadera!\")"
      ],
      "metadata": {
        "colab": {
          "base_uri": "https://localhost:8080/"
        },
        "id": "rCjGrPi3OmAB",
        "outputId": "f416c7c2-45b7-437e-87bf-5e42b23911a3"
      },
      "execution_count": 13,
      "outputs": [
        {
          "output_type": "stream",
          "name": "stdout",
          "text": [
            "¡La condición no es verdadera!\n"
          ]
        }
      ]
    },
    {
      "cell_type": "code",
      "source": [
        "a=int(input(\"Por favor ingrese un número \"))\n",
        "type(a)\n",
        "b=int(input(\"Ingrese el divisor \"))\n",
        "if b==0:\n",
        "  print(\"Error\")\n",
        "else:\n",
        "  c=a/b\n",
        "  print(\"El resultado de la división es\", c)\n",
        "  d=int(a%b)\n",
        "  if d>0:\n",
        "    print(d, \"La división no es exacta\")\n",
        "  elif d==0:\n",
        "    print(d, \"La división es exacta\")"
      ],
      "metadata": {
        "colab": {
          "base_uri": "https://localhost:8080/"
        },
        "id": "pyx4LUh2PdiD",
        "outputId": "f57d6169-ffa0-4776-9409-2db14d231397"
      },
      "execution_count": 14,
      "outputs": [
        {
          "output_type": "stream",
          "name": "stdout",
          "text": [
            "Por favor ingrese un número 12\n",
            "Ingrese el divisor 2\n",
            "El resultado de la división es 6.0\n",
            "0 La división es exacta\n"
          ]
        }
      ]
    },
    {
      "cell_type": "markdown",
      "source": [
        "##Try, except, finallly\n",
        "Para evitar que el programa se detenga cuando encuentra una excepción debemos colocar el bloque de código donde se podría generar la misma a continuación de la sentencia try. El programa intentará (try) ejecutar dicho código y si no puede hacerlo,  «atrapará» el error y responderá como lo indiquemos a continuación de la(s) sentencia(s) except.\n"
      ],
      "metadata": {
        "id": "o589OukBQBvg"
      }
    },
    {
      "cell_type": "code",
      "source": [
        "a=0\n",
        "b=2\n",
        "\n",
        "while a<5:\n",
        "  a+= 1\n",
        "  b-= 1\n",
        "  try: \n",
        "    a/b\n",
        "  except:\n",
        "    print (\"exception encountered: a={0}, b={1}\".format(a,b))\n",
        "    break \n",
        "  finally:\n",
        "    print(\"Inside finally: a={0}, b={1}\".format(a,b))\n",
        "else: \n",
        "  print('Inside else')"
      ],
      "metadata": {
        "colab": {
          "base_uri": "https://localhost:8080/"
        },
        "id": "PPzi0MxwaiTJ",
        "outputId": "c347cb50-9438-4aea-cbf6-41130eead1e2"
      },
      "execution_count": 15,
      "outputs": [
        {
          "output_type": "stream",
          "name": "stdout",
          "text": [
            "Inside finally: a=1, b=1\n",
            "exception encountered: a=2, b=0\n",
            "Inside finally: a=2, b=0\n"
          ]
        }
      ]
    },
    {
      "cell_type": "markdown",
      "source": [
        "##For \n",
        "El bucle for se utiliza para recorrer los elementos de un objeto iterable (lista, tupla, conjunto, diccionario, …) y ejecutar un bloque de código. En cada paso de la iteración se tiene en cuenta a un único elemento del objeto iterable, sobre el cuál se pueden aplicar una serie de operaciones."
      ],
      "metadata": {
        "id": "72NN-GQbeoj8"
      }
    },
    {
      "cell_type": "code",
      "source": [
        "valores = {'A': 4, 'E': 3, 'I': 1, 'O': 0}\n",
        "for k in valores:\n",
        "    print(k)"
      ],
      "metadata": {
        "colab": {
          "base_uri": "https://localhost:8080/"
        },
        "id": "rnCkvGjTih9M",
        "outputId": "05b85beb-e621-417e-90a0-cc45a6c783d6"
      },
      "execution_count": 16,
      "outputs": [
        {
          "output_type": "stream",
          "name": "stdout",
          "text": [
            "A\n",
            "E\n",
            "I\n",
            "O\n"
          ]
        }
      ]
    },
    {
      "cell_type": "markdown",
      "source": [
        "##from \n",
        "Al usar la forma from ... import ... , le indicamos a Python específicamente cuáles objetos queremos importar de un módulo en particular. Luego, los objetos importados se incorporan a nuestro archivo como cualquier otro objeto definido dentro de él."
      ],
      "metadata": {
        "id": "8s3irihyixLs"
      }
    },
    {
      "cell_type": "code",
      "source": [
        "from tkinter import END, Button, Entry, IntVar, Tk, ttk"
      ],
      "metadata": {
        "id": "DDcdao0djBTt"
      },
      "execution_count": 19,
      "outputs": []
    },
    {
      "cell_type": "markdown",
      "source": [
        "##Global \n",
        "Las variables globales en Python son aquellas definidas en el cuerpo principal del programa fuera de cualquier función. Son accesibles desde cualquier punto del programa, incluso desde dentro de funciones. También se puede acceder a las variables globales de otros programas o módulos importados."
      ],
      "metadata": {
        "id": "qXvOOK5Qkp_7"
      }
    },
    {
      "cell_type": "code",
      "source": [
        "f=101;\n",
        "print(f)\n",
        "\n",
        "def someFunction():\n",
        "  global f \n",
        "  print(f)\n",
        "  f= \"changing global variable\"\n",
        "\n",
        "someFunction()\n",
        "print(f)\n"
      ],
      "metadata": {
        "colab": {
          "base_uri": "https://localhost:8080/"
        },
        "id": "cV-h75EXl3T0",
        "outputId": "dc6e5182-d3df-456a-81d8-ffd30a8c7aa7"
      },
      "execution_count": 20,
      "outputs": [
        {
          "output_type": "stream",
          "name": "stdout",
          "text": [
            "101\n",
            "101\n",
            "changing global variable\n"
          ]
        }
      ]
    },
    {
      "cell_type": "markdown",
      "source": [
        "##Import \n",
        "El código Python en un módulo obtiene acceso al código en otro módulo por el proceso de importarlo. La instrucción import es la forma más común de invocar la maquinaria de importación, pero no es la única manera."
      ],
      "metadata": {
        "id": "5TD27hQ8rUIp"
      }
    },
    {
      "cell_type": "code",
      "source": [
        "import tkinter"
      ],
      "metadata": {
        "id": "kbJ-HyBuuZrH"
      },
      "execution_count": 21,
      "outputs": []
    },
    {
      "cell_type": "markdown",
      "source": [
        "##Operadores de pertinencia: In y not\n",
        "Un operador de pertenencia se emplea para identificar pertenencia en alguna secuencia (listas, strings, tuplas).\n",
        "\n",
        "in y not in son operadores de pertenencia.\n",
        ">In: n devuelve True si el valor especificado se encuentra en la secuencia. En caso contrario devuelve False.\n",
        "\n",
        ">Not: devuelve True si el valor especificado no se encuentra en la secuencia. En caso contrario devuelve False."
      ],
      "metadata": {
        "id": "pYvYYTH4uU92"
      }
    },
    {
      "cell_type": "code",
      "source": [
        "a = [1,2,3,4,5]\n",
        "  \n",
        "#Esta 3 en la lista a?\n",
        "print(3 in a) # Muestra True \n",
        "  \n",
        "#No está 12 en la lista a?\n",
        "print(12 not in a) # Muestra True\n",
        "\n",
        "#Esta 12 en la lista a?\n",
        "print(12 in a)"
      ],
      "metadata": {
        "colab": {
          "base_uri": "https://localhost:8080/"
        },
        "id": "orwRay1HwBf5",
        "outputId": "3bb958a1-3f89-41b5-84ee-c40e17583424"
      },
      "execution_count": 23,
      "outputs": [
        {
          "output_type": "stream",
          "name": "stdout",
          "text": [
            "True\n",
            "True\n",
            "False\n"
          ]
        }
      ]
    },
    {
      "cell_type": "markdown",
      "source": [
        "##Operadores de identidad \n",
        "Un operador de identidad se emplea para comprobar si dos variables emplean la misma ubicación en memoria. Is y is not son operadores de identidad.\n",
        "\n",
        ">Is devuelve True si los operandos se refieren al mismo objeto. En caso contrario devuelve False.\n",
        "\n",
        ">Iss not devuelve True si los operandos no se refieren al mismo objeto. En caso contrario devuelve False."
      ],
      "metadata": {
        "id": "D1sYgzXBwyrm"
      }
    },
    {
      "cell_type": "code",
      "source": [
        "a = 3\n",
        "b = 3  \n",
        "c = 4\n",
        "print (a is b) # muestra True\n",
        "print (a is not b) # muestra False\n",
        "print (a is not c) # muestra True"
      ],
      "metadata": {
        "colab": {
          "base_uri": "https://localhost:8080/"
        },
        "id": "Bg6SOYHZxyPz",
        "outputId": "0fb2edb4-c56a-4c52-bcfc-4dadc3d47ded"
      },
      "execution_count": 25,
      "outputs": [
        {
          "output_type": "stream",
          "name": "stdout",
          "text": [
            "True\n",
            "False\n",
            "True\n"
          ]
        }
      ]
    },
    {
      "cell_type": "markdown",
      "source": [
        "##Lambda \n",
        "Las expresiones lambda en Python son una forma corta de declarar funciones pequeñas y anónimas (no es necesario proporcionar un nombre para las funciones lambda).\n",
        "Las funciones Lambda se comportan como funciones normales declaradas con la palabra clave def. Resultan útiles cuando se desea definir una función pequeña de forma concisa. Pueden contener solo una expresión, por lo que no son las más adecuadas para funciones con instrucciones de flujo de control."
      ],
      "metadata": {
        "id": "zzRupuSFyC1r"
      }
    },
    {
      "cell_type": "code",
      "source": [
        "# Función Lambda para calcular el cuadrado de un número\n",
        "square = lambda x: x ** 2\n",
        "print(square(3)) # Resultado: 9"
      ],
      "metadata": {
        "colab": {
          "base_uri": "https://localhost:8080/"
        },
        "id": "XSb4Lbomy7bp",
        "outputId": "5ed5639b-afbc-4367-ff5d-fab030a46e70"
      },
      "execution_count": 26,
      "outputs": [
        {
          "output_type": "stream",
          "name": "stdout",
          "text": [
            "9\n"
          ]
        }
      ]
    },
    {
      "cell_type": "markdown",
      "source": [
        "##Nonlocal \n",
        "La palabra clave nonlocal se utiliza para establecer el alcance de una variable en particular. Se utiliza principalmente en los casos en que se produce el anidamiento en un programa.\n",
        "\n",
        "La palabra clave nonlocal, cuando se utiliza, tiene un alcance que es bastante diferente de la variable general global o local. La palabra clave nonlocal se utiliza para trabajar con variables en funciones anidadas, en cuyo caso se debe acceder al alcance de la variable dada en la función externa."
      ],
      "metadata": {
        "id": "dvpA5qfjzACs"
      }
    },
    {
      "cell_type": "code",
      "source": [
        "a = 0\n",
        "def outr():\n",
        "    a = 1\n",
        "    def innr():\n",
        "        nonlocal a\n",
        "        a = 2\n",
        "        print(\"inner variable value:\", a)\n",
        "    innr()\n",
        "    print(\"outer variable value:\", a)\n",
        "outr()\n",
        "print(\"global variable value:\", a)"
      ],
      "metadata": {
        "colab": {
          "base_uri": "https://localhost:8080/"
        },
        "id": "IgXjpniZ0ElG",
        "outputId": "7b4e4f28-f444-4a61-9ee5-660485a4c5ce"
      },
      "execution_count": 27,
      "outputs": [
        {
          "output_type": "stream",
          "name": "stdout",
          "text": [
            "inner variable value: 2\n",
            "outer variable value: 2\n",
            "global variable value: 0\n"
          ]
        }
      ]
    },
    {
      "cell_type": "markdown",
      "source": [
        "##or \n",
        "Operador lógico que devuelve True si alguno de los operandos es True\t\n"
      ],
      "metadata": {
        "id": "HHmwWhVL0JC0"
      }
    },
    {
      "cell_type": "code",
      "source": [
        "z=int(input(\"Ingrese la edad del primer hermano: \"))\n",
        "y=int(input(\"Ingrese la edad del segundo hermano: \"))\n",
        "t=int(input(\"Ingrese la edad del tercer hermano: \"))\n",
        "edad=[z,y,t]\n",
        "ordenados=sorted(edad)\n",
        "print(\"Las edades de menor a mayor de los hermanos son \", ordenados)\n",
        "if z==y==t:\n",
        "  print(\"Los tres hermanos son trillizos\")\n",
        "elif z==y or z==t or y==t:\n",
        "  print(\"Dos de los hermanos son gemelos\")\n",
        "else:\n",
        "  z!=y!=t\n",
        "  print(\"Los tres hermanos tienen edades diferentes\")"
      ],
      "metadata": {
        "colab": {
          "base_uri": "https://localhost:8080/"
        },
        "id": "livAiuih1svv",
        "outputId": "2231da71-acc3-41b9-b512-bf969d75607a"
      },
      "execution_count": 28,
      "outputs": [
        {
          "output_type": "stream",
          "name": "stdout",
          "text": [
            "Ingrese la edad del primer hermano: 12\n",
            "Ingrese la edad del segundo hermano: 3\n",
            "Ingrese la edad del tercer hermano: 5\n",
            "Las edades de menor a mayor de los hermanos son  [3, 5, 12]\n",
            "Los tres hermanos tienen edades diferentes\n"
          ]
        }
      ]
    },
    {
      "cell_type": "markdown",
      "source": [
        "##pass\n",
        "Cuando se activa una condición externa, la instrucción pass permite manejar la condición sin que el bucle se vea afectado de ninguna manera; todo el código continuará leyéndose a menos que se produzca la instrucción break u otra instrucción.\n",
        "\n",
        "Igual que con las demás instrucciones, la instrucción pass se encuentra dentro del bloque de código abajo de la instrucción del bucle, normalmente después de una instrucción if condicional."
      ],
      "metadata": {
        "id": "q3vea2Ap17hE"
      }
    },
    {
      "cell_type": "code",
      "source": [
        "number = 0\n",
        "\n",
        "for number in range(10):\n",
        "    if number == 5:\n",
        "        pass    # pass here\n",
        "\n",
        "    print('Number is ' + str(number))\n",
        "\n",
        "print('Out of loop')"
      ],
      "metadata": {
        "colab": {
          "base_uri": "https://localhost:8080/"
        },
        "id": "DXEe0Hzr2KYR",
        "outputId": "a744b942-a2d4-439e-c043-6030d21df1bf"
      },
      "execution_count": 29,
      "outputs": [
        {
          "output_type": "stream",
          "name": "stdout",
          "text": [
            "Number is 0\n",
            "Number is 1\n",
            "Number is 2\n",
            "Number is 3\n",
            "Number is 4\n",
            "Number is 5\n",
            "Number is 6\n",
            "Number is 7\n",
            "Number is 8\n",
            "Number is 9\n",
            "Out of loop\n"
          ]
        }
      ]
    },
    {
      "cell_type": "markdown",
      "source": [
        "##Raise \n",
        " Para levantar una excepción de cualquier tipo, utilizamos también la sentencia raise, pero indicándole el tipo de excepción que deseamos lanzar y pasando a la excepción los parámetros con información adicional que queramos brindar."
      ],
      "metadata": {
        "id": "dBmT7OCV2QUX"
      }
    },
    {
      "cell_type": "code",
      "source": [
        "def dividir(dividendo, divisor):\n",
        "    try:\n",
        "        resultado = dividendo / divisor\n",
        "        return resultado\n",
        "    except ZeroDivisionError:\n",
        "        raise ZeroDivisionError(\"El divisor no puede ser cero\")"
      ],
      "metadata": {
        "id": "6RWNBN4D2ue3"
      },
      "execution_count": 30,
      "outputs": []
    },
    {
      "cell_type": "markdown",
      "source": [
        "##Return \n",
        "La instrucción return indica el final de la función pero también el valor que devuelve la función. La ejecución del programa continúa tras la llamada a la función."
      ],
      "metadata": {
        "id": "TkRSaZ2f27hP"
      }
    },
    {
      "cell_type": "code",
      "source": [
        "def return_multiple_values():\n",
        "  return 1, 2, 3\n",
        "\n",
        "print(return_multiple_values())\n",
        "print(type(return_multiple_values()))"
      ],
      "metadata": {
        "colab": {
          "base_uri": "https://localhost:8080/"
        },
        "id": "BPNjQdJB3MFb",
        "outputId": "f1f27656-7562-4d3c-bff2-78d8eb2c2685"
      },
      "execution_count": 31,
      "outputs": [
        {
          "output_type": "stream",
          "name": "stdout",
          "text": [
            "(1, 2, 3)\n",
            "<class 'tuple'>\n"
          ]
        }
      ]
    },
    {
      "cell_type": "markdown",
      "source": [
        "##While \n",
        "El bucle while evalúa una condición y luego ejecuta un bloque de código si la condición es verdadera. El bloque de código se ejecuta repetidamente hasta que la condición llega ser o es falsa."
      ],
      "metadata": {
        "id": "pbwXgx6k3wAy"
      }
    },
    {
      "cell_type": "code",
      "source": [
        "dia = 0    \n",
        "semana = ['Lunes', 'Martes', 'Miércoles', 'Jueves', 'Viernes', 'Sabado', 'Domingo']\n",
        "while dia < 7:\n",
        "   print(\"Hoy es \" + semana[dia])\n",
        "   dia += 1"
      ],
      "metadata": {
        "colab": {
          "base_uri": "https://localhost:8080/"
        },
        "id": "CNp1GqWb4LN8",
        "outputId": "f0577233-a218-4870-8196-a3b06b833eef"
      },
      "execution_count": 32,
      "outputs": [
        {
          "output_type": "stream",
          "name": "stdout",
          "text": [
            "Hoy es Lunes\n",
            "Hoy es Martes\n",
            "Hoy es Miércoles\n",
            "Hoy es Jueves\n",
            "Hoy es Viernes\n",
            "Hoy es Sabado\n",
            "Hoy es Domingo\n"
          ]
        }
      ]
    },
    {
      "cell_type": "markdown",
      "source": [
        "##With \n",
        "Las sentencias with permite la ejecución del código de inicialización y finalización alrededor de un bloque de código. Las definiciones de función y clase también son sentencias sintácticamente compuestas.\n"
      ],
      "metadata": {
        "id": "Bl4rnAc04dvU"
      }
    },
    {
      "cell_type": "code",
      "source": [
        "file = open('file-path', 'w') \n",
        "try: \n",
        "    file.write('Lorem ipsum') \n",
        "finally: \n",
        "    file.close()\n",
        "\n",
        "with open('file-path', 'w') as file: \n",
        "    file.write('Lorem ipsum')"
      ],
      "metadata": {
        "id": "fTLTIJo99YIF"
      },
      "execution_count": 38,
      "outputs": []
    },
    {
      "cell_type": "markdown",
      "source": [
        "##Yield \n",
        "Se le llama así a un objeto que es capaz de retornar sus miembros uno a la vez. Entre los iterables se encuentran estructuras de secuencia como son: strings."
      ],
      "metadata": {
        "id": "doSpPt666jrc"
      }
    },
    {
      "cell_type": "code",
      "source": [
        "def func():\n",
        "  print('start')\n",
        "  item= yield 123\n",
        "  print('end')\n"
      ],
      "metadata": {
        "id": "jceAlqki7CHg"
      },
      "execution_count": 40,
      "outputs": []
    }
  ]
}
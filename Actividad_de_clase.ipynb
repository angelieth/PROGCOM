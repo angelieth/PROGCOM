{
  "nbformat": 4,
  "nbformat_minor": 0,
  "metadata": {
    "colab": {
      "name": "Actividad de clase.ipynb",
      "provenance": []
    },
    "kernelspec": {
      "name": "python3",
      "display_name": "Python 3"
    },
    "language_info": {
      "name": "python"
    }
  },
  "cells": [
    {
      "cell_type": "markdown",
      "source": [
        "##Ejercicios 11 de Agosto\n"
      ],
      "metadata": {
        "id": "_YZT_m9opzRL"
      }
    },
    {
      "cell_type": "markdown",
      "source": [
        "###Ejercicios 1 \n",
        "1.\tEscriba un programa que solicite dos números enteros y calcule su división. El programa debe definir si la división es exacta o no. Si no es exacta, debe imprimir cuál es su residuo. ¿Qué debería imprimir el programa si la división es entre cero?"
      ],
      "metadata": {
        "id": "iOboGk1wp6Cq"
      }
    },
    {
      "cell_type": "code",
      "source": [
        "a=int(input(\"Por favor ingrese un número \"))\n",
        "type(a)\n",
        "b=int(input(\"Ingrese el divisor \"))\n",
        "if b==0:\n",
        "  print(\"Error\")\n",
        "else:\n",
        "  c=a/b\n",
        "  print(c)\n",
        "\n",
        "\n"
      ],
      "metadata": {
        "colab": {
          "base_uri": "https://localhost:8080/"
        },
        "id": "Vbt95tAhp_H9",
        "outputId": "2ecf512b-a51b-47d6-f442-c3fdfc0f1b09"
      },
      "execution_count": 32,
      "outputs": [
        {
          "output_type": "stream",
          "name": "stdout",
          "text": [
            "Por favor ingrese un número 12\n",
            "Ingrese el divisor 5\n",
            "2.4\n"
          ]
        }
      ]
    },
    {
      "cell_type": "code",
      "source": [
        "d=int(a%b)\n",
        "if d>0:\n",
        "  print(d, \"La división no es exacta\")\n",
        "elif d==0:\n",
        "  print(d, \"La división es exacta\")"
      ],
      "metadata": {
        "colab": {
          "base_uri": "https://localhost:8080/"
        },
        "id": "FyvCaXultk5H",
        "outputId": "6ca11125-0386-44a0-b6e1-7d581803a890"
      },
      "execution_count": 35,
      "outputs": [
        {
          "output_type": "stream",
          "name": "stdout",
          "text": [
            "2 La división no es exacta\n"
          ]
        }
      ]
    },
    {
      "cell_type": "markdown",
      "source": [
        ""
      ],
      "metadata": {
        "id": "-2Gu0ve0zxMM"
      }
    },
    {
      "cell_type": "markdown",
      "source": [
        "### Ejercicio 2\n",
        "##### 2.\tEscriba un programa que pida dos números e indique si uno es múltiplo del otro."
      ],
      "metadata": {
        "id": "EjlMQMTAz2Rk"
      }
    },
    {
      "cell_type": "code",
      "source": [
        "a=int(input(\"Por favor ingrese un número\"))\n",
        "b=int(input(\"Por favor ingrese el segundo número\"))\n",
        "if b==0:\n",
        "  print(a, \"es un múltiplo de\", b )\n",
        "else: \n",
        "  c=a/b\n",
        "  print(c)\n",
        "  "
      ],
      "metadata": {
        "id": "59FPDd3O0TjI"
      },
      "execution_count": null,
      "outputs": []
    }
  ]
}